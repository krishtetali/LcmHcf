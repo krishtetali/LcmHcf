{
 "cells": [
  {
   "cell_type": "code",
   "execution_count": 156,
   "metadata": {},
   "outputs": [],
   "source": [
    "from keras.models import Sequential\n",
    "from keras.layers import Dense\n",
    "import numpy as np"
   ]
  },
  {
   "cell_type": "code",
   "execution_count": 157,
   "metadata": {
    "collapsed": true
   },
   "outputs": [],
   "source": [
    "numpy.random.seed(7)\n",
    "batch_size = 128\n",
    "epochs = 20"
   ]
  },
  {
   "cell_type": "code",
   "execution_count": 158,
   "metadata": {},
   "outputs": [],
   "source": [
    "dataset_train = numpy.loadtxt(\"/home/krish/Desktop/data.csv\", delimiter=\",\")\n",
    "x_train = dataset_train[:,0:2]\n",
    "y_train = dataset_train[:,-1]\n",
    "\n",
    "dataset_test = numpy.loadtxt(\"/home/krish/Desktop/data_test.csv\", delimiter=\",\")\n",
    "x_test = dataset_test[:,0:2]\n",
    "y_test = dataset_test[:,-1]\n"
   ]
  },
  {
   "cell_type": "markdown",
   "metadata": {},
   "source": [
    "# Keras provides sequential modelling where an instance of the Sequential class is created and model layers are created and added to it one after anothere.\n",
    "\n",
    "# In keras a dense layer is simply a layer where each unit or neuron is connected to each neuron in the next layer.\n",
    "\n",
    "# The first layer for NN will be the input layer and the inputs we are providing are 2 so input_dim is 2\n",
    "\n",
    "# the activating function we used for first two layer's are rectifier  'relu' where it has 4 neurons\n",
    "\n",
    "# the second layer also has relu and 2 neurons\n",
    "\n",
    "# the last layer has 1 output neuron and activation functions can be sigmoid or tanh .I will replace sigmoid with tanh and get back to you later."
   ]
  },
  {
   "cell_type": "code",
   "execution_count": 159,
   "metadata": {},
   "outputs": [],
   "source": [
    "model = Sequential()\n",
    "model.add(Dense(8, input_dim=2, activation='relu'))\n",
    "model.add(Dense(4, activation='relu'))\n",
    "model.add(Dense(1, activation='sigmoid'))"
   ]
  },
  {
   "cell_type": "markdown",
   "metadata": {},
   "source": [
    "# when compiling you must specify loss function  and metrics that you need\n",
    "# We can train or fit our model on our loaded data by calling the fit() function on the model and specify the bactch_size or number of instances that should be runned before updating weight and epoches etc.."
   ]
  },
  {
   "cell_type": "code",
   "execution_count": 165,
   "metadata": {},
   "outputs": [
    {
     "name": "stdout",
     "output_type": "stream",
     "text": [
      "Train on 5600 samples, validate on 2400 samples\n",
      "Epoch 1/20\n",
      "5600/5600 [==============================] - 1s 135us/step - loss: -35.9814 - acc: 0.6137 - val_loss: -35.1463 - val_acc: 0.6112\n",
      "Epoch 2/20\n",
      "5600/5600 [==============================] - 0s 20us/step - loss: -35.9814 - acc: 0.6138 - val_loss: -35.1463 - val_acc: 0.6112\n",
      "Epoch 3/20\n",
      "5600/5600 [==============================] - 0s 19us/step - loss: -35.9814 - acc: 0.6138 - val_loss: -35.1463 - val_acc: 0.6112\n",
      "Epoch 4/20\n",
      "5600/5600 [==============================] - 0s 20us/step - loss: -35.9814 - acc: 0.6138 - val_loss: -35.1463 - val_acc: 0.6112\n",
      "Epoch 5/20\n",
      "5600/5600 [==============================] - 0s 18us/step - loss: -35.9814 - acc: 0.6138 - val_loss: -35.1463 - val_acc: 0.6112\n",
      "Epoch 6/20\n",
      "5600/5600 [==============================] - 0s 20us/step - loss: -35.9814 - acc: 0.6138 - val_loss: -35.1463 - val_acc: 0.6112\n",
      "Epoch 7/20\n",
      "5600/5600 [==============================] - 0s 22us/step - loss: -35.9814 - acc: 0.6138 - val_loss: -35.1463 - val_acc: 0.6112\n",
      "Epoch 8/20\n",
      "5600/5600 [==============================] - 0s 25us/step - loss: -35.9814 - acc: 0.6138 - val_loss: -35.1463 - val_acc: 0.6112\n",
      "Epoch 9/20\n",
      "5600/5600 [==============================] - 0s 20us/step - loss: -35.9814 - acc: 0.6137 - val_loss: -35.1463 - val_acc: 0.6112\n",
      "Epoch 10/20\n",
      "5600/5600 [==============================] - 0s 26us/step - loss: -35.9814 - acc: 0.6137 - val_loss: -35.1463 - val_acc: 0.6112\n",
      "Epoch 11/20\n",
      "5600/5600 [==============================] - 0s 33us/step - loss: -35.9814 - acc: 0.6137 - val_loss: -35.1463 - val_acc: 0.6112\n",
      "Epoch 12/20\n",
      "5600/5600 [==============================] - 0s 21us/step - loss: -35.9814 - acc: 0.6138 - val_loss: -35.1463 - val_acc: 0.6112\n",
      "Epoch 13/20\n",
      "5600/5600 [==============================] - 0s 21us/step - loss: -35.9814 - acc: 0.6137 - val_loss: -35.1463 - val_acc: 0.6112\n",
      "Epoch 14/20\n",
      "5600/5600 [==============================] - 0s 18us/step - loss: -35.9814 - acc: 0.6138 - val_loss: -35.1463 - val_acc: 0.6112\n",
      "Epoch 15/20\n",
      "5600/5600 [==============================] - 0s 19us/step - loss: -35.9814 - acc: 0.6138 - val_loss: -35.1463 - val_acc: 0.6112\n",
      "Epoch 16/20\n",
      "5600/5600 [==============================] - 0s 26us/step - loss: -35.9814 - acc: 0.6138 - val_loss: -35.1463 - val_acc: 0.6112\n",
      "Epoch 17/20\n",
      "5600/5600 [==============================] - 0s 18us/step - loss: -35.9814 - acc: 0.6138 - val_loss: -35.1463 - val_acc: 0.6112\n",
      "Epoch 18/20\n",
      "5600/5600 [==============================] - 0s 22us/step - loss: -35.9814 - acc: 0.6138 - val_loss: -35.1463 - val_acc: 0.6112\n",
      "Epoch 19/20\n",
      "5600/5600 [==============================] - 0s 18us/step - loss: -35.9814 - acc: 0.6137 - val_loss: -35.1463 - val_acc: 0.6112\n",
      "Epoch 20/20\n",
      "5600/5600 [==============================] - 0s 17us/step - loss: -35.9814 - acc: 0.6138 - val_loss: -35.1463 - val_acc: 0.6112\n",
      "Test loss: -35.1463161469\n",
      "Test accuracy: 61.125\n"
     ]
    }
   ],
   "source": [
    "model.compile(loss='binary_crossentropy', optimizer='adam', metrics=['accuracy'])\n",
    "model.fit(x_train, y_train,\n",
    "                    batch_size=batch_size,\n",
    "                    epochs=epochs,\n",
    "                    verbose=1,\n",
    "                    validation_data=(x_test, y_test))\n",
    "# model.fit(x_train, y_train, epochs=150, batch_size=10,  verbose=2)\n",
    "\n",
    "#scores = model.evaluate(X, Y)\n",
    "score = model.evaluate(x_test, y_test, verbose=0)\n",
    "print('Test loss:', score[0])\n",
    "print('Test accuracy:', score[1]*100)"
   ]
  },
  {
   "cell_type": "code",
   "execution_count": null,
   "metadata": {},
   "outputs": [],
   "source": []
  },
  {
   "cell_type": "code",
   "execution_count": null,
   "metadata": {
    "collapsed": true
   },
   "outputs": [],
   "source": []
  },
  {
   "cell_type": "code",
   "execution_count": null,
   "metadata": {
    "collapsed": true
   },
   "outputs": [],
   "source": []
  }
 ],
 "metadata": {
  "kernelspec": {
   "display_name": "Python 3",
   "language": "python",
   "name": "python3"
  },
  "language_info": {
   "codemirror_mode": {
    "name": "ipython",
    "version": 3
   },
   "file_extension": ".py",
   "mimetype": "text/x-python",
   "name": "python",
   "nbconvert_exporter": "python",
   "pygments_lexer": "ipython3",
   "version": "3.6.3"
  }
 },
 "nbformat": 4,
 "nbformat_minor": 2
}
